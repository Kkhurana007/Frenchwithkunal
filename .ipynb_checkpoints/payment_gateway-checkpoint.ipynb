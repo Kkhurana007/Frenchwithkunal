{
 "cells": [
  {
   "cell_type": "code",
   "execution_count": 2,
   "id": "01885e8a",
   "metadata": {},
   "outputs": [
    {
     "name": "stdout",
     "output_type": "stream",
     "text": [
      "Requirement already satisfied: stripe in c:\\users\\khura\\anaconda3\\lib\\site-packages (11.5.0)\n",
      "Requirement already satisfied: requests>=2.20 in c:\\users\\khura\\anaconda3\\lib\\site-packages (from stripe) (2.31.0)\n",
      "Requirement already satisfied: typing-extensions>=4.5.0 in c:\\users\\khura\\anaconda3\\lib\\site-packages (from stripe) (4.12.2)\n",
      "Requirement already satisfied: charset-normalizer<4,>=2 in c:\\users\\khura\\anaconda3\\lib\\site-packages (from requests>=2.20->stripe) (2.0.4)\n",
      "Requirement already satisfied: idna<4,>=2.5 in c:\\users\\khura\\anaconda3\\lib\\site-packages (from requests>=2.20->stripe) (3.4)\n",
      "Requirement already satisfied: urllib3<3,>=1.21.1 in c:\\users\\khura\\anaconda3\\lib\\site-packages (from requests>=2.20->stripe) (1.26.16)\n",
      "Requirement already satisfied: certifi>=2017.4.17 in c:\\users\\khura\\anaconda3\\lib\\site-packages (from requests>=2.20->stripe) (2023.11.17)\n"
     ]
    }
   ],
   "source": [
    "! pip install stripe"
   ]
  },
  {
   "cell_type": "code",
   "execution_count": 3,
   "id": "1ce6d132",
   "metadata": {},
   "outputs": [
    {
     "ename": "NameError",
     "evalue": "name 'Flask' is not defined",
     "output_type": "error",
     "traceback": [
      "\u001b[1;31m---------------------------------------------------------------------------\u001b[0m",
      "\u001b[1;31mNameError\u001b[0m                                 Traceback (most recent call last)",
      "Cell \u001b[1;32mIn[3], line 4\u001b[0m\n\u001b[0;32m      1\u001b[0m \u001b[38;5;28;01mimport\u001b[39;00m \u001b[38;5;21;01mos\u001b[39;00m\n\u001b[0;32m      2\u001b[0m \u001b[38;5;28;01mimport\u001b[39;00m \u001b[38;5;21;01mstripe\u001b[39;00m\n\u001b[1;32m----> 4\u001b[0m app \u001b[38;5;241m=\u001b[39m Flask(\u001b[38;5;18m__name__\u001b[39m)\n\u001b[0;32m      5\u001b[0m app\u001b[38;5;241m.\u001b[39msecret_key \u001b[38;5;241m=\u001b[39m \u001b[38;5;124m'\u001b[39m\u001b[38;5;124myour_flask_secret_key\u001b[39m\u001b[38;5;124m'\u001b[39m\n\u001b[0;32m      7\u001b[0m \u001b[38;5;66;03m# Stripe configuration\u001b[39;00m\n",
      "\u001b[1;31mNameError\u001b[0m: name 'Flask' is not defined"
     ]
    }
   ],
   "source": [
    "import os\n",
    "import stripe\n",
    "\n",
    "app = Flask(__name__)\n",
    "app.secret_key = 'your_flask_secret_key'\n",
    "\n",
    "# Stripe configuration\n",
    "stripe.api_key = os.getenv('STRIPE_SECRET_KEY')  # Load from environment variables\n",
    "stripe_publishable_key = os.getenv('STRIPE_PUBLISHABLE_KEY')"
   ]
  },
  {
   "cell_type": "code",
   "execution_count": 4,
   "id": "5b2da709",
   "metadata": {},
   "outputs": [
    {
     "ename": "NameError",
     "evalue": "name 'app' is not defined",
     "output_type": "error",
     "traceback": [
      "\u001b[1;31m---------------------------------------------------------------------------\u001b[0m",
      "\u001b[1;31mNameError\u001b[0m                                 Traceback (most recent call last)",
      "Cell \u001b[1;32mIn[4], line 3\u001b[0m\n\u001b[0;32m      1\u001b[0m \u001b[38;5;28;01mfrom\u001b[39;00m \u001b[38;5;21;01mflask\u001b[39;00m \u001b[38;5;28;01mimport\u001b[39;00m jsonify\n\u001b[1;32m----> 3\u001b[0m \u001b[38;5;129m@app\u001b[39m\u001b[38;5;241m.\u001b[39mroute(\u001b[38;5;124m'\u001b[39m\u001b[38;5;124m/create-checkout-session\u001b[39m\u001b[38;5;124m'\u001b[39m, methods\u001b[38;5;241m=\u001b[39m[\u001b[38;5;124m'\u001b[39m\u001b[38;5;124mPOST\u001b[39m\u001b[38;5;124m'\u001b[39m])\n\u001b[0;32m      4\u001b[0m \u001b[38;5;28;01mdef\u001b[39;00m \u001b[38;5;21mcreate_checkout_session\u001b[39m():\n\u001b[0;32m      5\u001b[0m     \u001b[38;5;28;01mtry\u001b[39;00m:\n\u001b[0;32m      6\u001b[0m         checkout_session \u001b[38;5;241m=\u001b[39m stripe\u001b[38;5;241m.\u001b[39mcheckout\u001b[38;5;241m.\u001b[39mSession\u001b[38;5;241m.\u001b[39mcreate(\n\u001b[0;32m      7\u001b[0m             payment_method_types\u001b[38;5;241m=\u001b[39m[\u001b[38;5;124m'\u001b[39m\u001b[38;5;124mcard\u001b[39m\u001b[38;5;124m'\u001b[39m],\n\u001b[0;32m      8\u001b[0m             line_items\u001b[38;5;241m=\u001b[39m[{\n\u001b[1;32m   (...)\u001b[0m\n\u001b[0;32m     20\u001b[0m             cancel_url\u001b[38;5;241m=\u001b[39murl_for(\u001b[38;5;124m'\u001b[39m\u001b[38;5;124mcancel\u001b[39m\u001b[38;5;124m'\u001b[39m, _external\u001b[38;5;241m=\u001b[39m\u001b[38;5;28;01mTrue\u001b[39;00m),\n\u001b[0;32m     21\u001b[0m         )\n",
      "\u001b[1;31mNameError\u001b[0m: name 'app' is not defined"
     ]
    }
   ],
   "source": [
    "from flask import jsonify\n",
    "\n",
    "@app.route('/create-checkout-session', methods=['POST'])\n",
    "def create_checkout_session():\n",
    "    try:\n",
    "        checkout_session = stripe.checkout.Session.create(\n",
    "            payment_method_types=['card'],\n",
    "            line_items=[{\n",
    "                'price_data': {\n",
    "                    'currency': 'usd',\n",
    "                    'product_data': {\n",
    "                        'name': 'French Course Subscription',\n",
    "                    },\n",
    "                    'unit_amount': 2000,  # $20.00 (in cents)\n",
    "                },\n",
    "                'quantity': 1,\n",
    "            }],\n",
    "            mode='payment',\n",
    "            success_url=url_for('success', _external=True),\n",
    "            cancel_url=url_for('cancel', _external=True),\n",
    "        )\n",
    "        return jsonify({'id': checkout_session.id})\n",
    "    except Exception as e:\n",
    "        return str(e), 400"
   ]
  },
  {
   "cell_type": "code",
   "execution_count": 5,
   "id": "9580b30c",
   "metadata": {},
   "outputs": [
    {
     "name": "stdout",
     "output_type": "stream",
     "text": [
      " * Serving Flask app '__main__'\n",
      " * Debug mode: on\n"
     ]
    },
    {
     "name": "stderr",
     "output_type": "stream",
     "text": [
      "WARNING: This is a development server. Do not use it in a production deployment. Use a production WSGI server instead.\n",
      " * Running on http://127.0.0.1:5000\n",
      "Press CTRL+C to quit\n",
      " * Restarting with watchdog (windowsapi)\n"
     ]
    },
    {
     "ename": "SystemExit",
     "evalue": "1",
     "output_type": "error",
     "traceback": [
      "An exception has occurred, use %tb to see the full traceback.\n",
      "\u001b[1;31mSystemExit\u001b[0m\u001b[1;31m:\u001b[0m 1\n"
     ]
    },
    {
     "name": "stderr",
     "output_type": "stream",
     "text": [
      "C:\\Users\\khura\\anaconda3\\Lib\\site-packages\\IPython\\core\\interactiveshell.py:3534: UserWarning: To exit: use 'exit', 'quit', or Ctrl-D.\n",
      "  warn(\"To exit: use 'exit', 'quit', or Ctrl-D.\", stacklevel=1)\n"
     ]
    }
   ],
   "source": [
    "from flask import Flask, render_template, request, jsonify, url_for\n",
    "import stripe\n",
    "import os\n",
    "\n",
    "app = Flask(__name__)\n",
    "app.secret_key = 'your_flask_secret_key'\n",
    "\n",
    "# Stripe configuration\n",
    "stripe.api_key = os.getenv('STRIPE_SECRET_KEY')\n",
    "stripe_publishable_key = os.getenv('STRIPE_PUBLISHABLE_KEY')\n",
    "\n",
    "@app.route('/')\n",
    "def home():\n",
    "    return render_template('index.html', stripe_publishable_key=stripe_publishable_key)\n",
    "\n",
    "@app.route('/create-checkout-session', methods=['POST'])\n",
    "def create_checkout_session():\n",
    "    try:\n",
    "        checkout_session = stripe.checkout.Session.create(\n",
    "            payment_method_types=['card'],\n",
    "            line_items=[{\n",
    "                'price_data': {\n",
    "                    'currency': 'cad',\n",
    "                    'product_data': {\n",
    "                        'name': 'French Course Subscription',\n",
    "                    },\n",
    "                    'unit_amount': 2000,  # $20.00 (in cents)\n",
    "                },\n",
    "                'quantity': 1,\n",
    "            }],\n",
    "            mode='payment',\n",
    "            success_url=url_for('success', _external=True),\n",
    "            cancel_url=url_for('cancel', _external=True),\n",
    "        )\n",
    "        return jsonify({'id': checkout_session.id})\n",
    "    except Exception as e:\n",
    "        return str(e), 400\n",
    "\n",
    "@app.route('/success')\n",
    "def success():\n",
    "    return \"Payment successful! Thank you for subscribing.\"\n",
    "\n",
    "@app.route('/cancel')\n",
    "def cancel():\n",
    "    return \"Payment canceled. Please try again.\"\n",
    "\n",
    "if __name__ == '__main__':\n",
    "    app.run(debug=True)"
   ]
  },
  {
   "cell_type": "code",
   "execution_count": null,
   "id": "3c5e3a8c",
   "metadata": {},
   "outputs": [],
   "source": []
  }
 ],
 "metadata": {
  "kernelspec": {
   "display_name": "Python 3 (ipykernel)",
   "language": "python",
   "name": "python3"
  },
  "language_info": {
   "codemirror_mode": {
    "name": "ipython",
    "version": 3
   },
   "file_extension": ".py",
   "mimetype": "text/x-python",
   "name": "python",
   "nbconvert_exporter": "python",
   "pygments_lexer": "ipython3",
   "version": "3.11.5"
  }
 },
 "nbformat": 4,
 "nbformat_minor": 5
}
