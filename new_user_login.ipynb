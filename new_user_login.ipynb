{
 "cells": [
  {
   "cell_type": "code",
   "execution_count": 1,
   "id": "f157cd11",
   "metadata": {},
   "outputs": [
    {
     "name": "stdout",
     "output_type": "stream",
     "text": [
      "Requirement already satisfied: flask in c:\\users\\khura\\anaconda3\\lib\\site-packages (3.1.0)\n",
      "Requirement already satisfied: flask-login in c:\\users\\khura\\anaconda3\\lib\\site-packages (0.6.3)\n",
      "Requirement already satisfied: flask-sqlalchemy in c:\\users\\khura\\anaconda3\\lib\\site-packages (3.1.1)\n",
      "Requirement already satisfied: Werkzeug>=3.1 in c:\\users\\khura\\anaconda3\\lib\\site-packages (from flask) (3.1.3)\n",
      "Requirement already satisfied: Jinja2>=3.1.2 in c:\\users\\khura\\anaconda3\\lib\\site-packages (from flask) (3.1.2)\n",
      "Requirement already satisfied: itsdangerous>=2.2 in c:\\users\\khura\\anaconda3\\lib\\site-packages (from flask) (2.2.0)\n",
      "Requirement already satisfied: click>=8.1.3 in c:\\users\\khura\\anaconda3\\lib\\site-packages (from flask) (8.1.8)\n",
      "Requirement already satisfied: blinker>=1.9 in c:\\users\\khura\\anaconda3\\lib\\site-packages (from flask) (1.9.0)\n",
      "Requirement already satisfied: sqlalchemy>=2.0.16 in c:\\users\\khura\\anaconda3\\lib\\site-packages (from flask-sqlalchemy) (2.0.37)\n",
      "Requirement already satisfied: colorama in c:\\users\\khura\\anaconda3\\lib\\site-packages (from click>=8.1.3->flask) (0.4.6)\n",
      "Requirement already satisfied: MarkupSafe>=2.0 in c:\\users\\khura\\anaconda3\\lib\\site-packages (from Jinja2>=3.1.2->flask) (2.1.1)\n",
      "Requirement already satisfied: greenlet!=0.4.17 in c:\\users\\khura\\anaconda3\\lib\\site-packages (from sqlalchemy>=2.0.16->flask-sqlalchemy) (2.0.1)\n",
      "Requirement already satisfied: typing-extensions>=4.6.0 in c:\\users\\khura\\anaconda3\\lib\\site-packages (from sqlalchemy>=2.0.16->flask-sqlalchemy) (4.12.2)\n"
     ]
    },
    {
     "name": "stderr",
     "output_type": "stream",
     "text": [
      "\n",
      "[notice] A new release of pip is available: 24.3.1 -> 25.0\n",
      "[notice] To update, run: python.exe -m pip install --upgrade pip\n"
     ]
    }
   ],
   "source": [
    "!pip install flask flask-login flask-sqlalchemy"
   ]
  },
  {
   "cell_type": "code",
   "execution_count": 2,
   "id": "2bbab763",
   "metadata": {},
   "outputs": [
    {
     "data": {
      "text/plain": [
       "'f8e323875a6103f71c9705a03f5f6fc2698a33e1894c1de6'"
      ]
     },
     "execution_count": 2,
     "metadata": {},
     "output_type": "execute_result"
    }
   ],
   "source": [
    "import os\n",
    "os.urandom(24).hex()"
   ]
  },
  {
   "cell_type": "code",
   "execution_count": 3,
   "id": "5220ebc2",
   "metadata": {},
   "outputs": [
    {
     "name": "stdout",
     "output_type": "stream",
     "text": [
      " * Serving Flask app '__main__'\n",
      " * Debug mode: on\n"
     ]
    },
    {
     "name": "stderr",
     "output_type": "stream",
     "text": [
      "WARNING: This is a development server. Do not use it in a production deployment. Use a production WSGI server instead.\n",
      " * Running on http://127.0.0.1:5000\n",
      "Press CTRL+C to quit\n",
      " * Restarting with watchdog (windowsapi)\n"
     ]
    },
    {
     "ename": "SystemExit",
     "evalue": "1",
     "output_type": "error",
     "traceback": [
      "An exception has occurred, use %tb to see the full traceback.\n",
      "\u001b[1;31mSystemExit\u001b[0m\u001b[1;31m:\u001b[0m 1\n"
     ]
    },
    {
     "name": "stderr",
     "output_type": "stream",
     "text": [
      "C:\\Users\\khura\\anaconda3\\Lib\\site-packages\\IPython\\core\\interactiveshell.py:3534: UserWarning: To exit: use 'exit', 'quit', or Ctrl-D.\n",
      "  warn(\"To exit: use 'exit', 'quit', or Ctrl-D.\", stacklevel=1)\n"
     ]
    }
   ],
   "source": [
    "from flask import Flask, render_template, redirect, url_for, request, flash\n",
    "from flask_sqlalchemy import SQLAlchemy\n",
    "from flask_login import LoginManager, UserMixin, login_user, login_required, logout_user, current_user\n",
    "\n",
    "app = Flask(__name__)\n",
    "app.secret_key = 'f8e323875a6103f71c9705a03f5f6fc2698a33e1894c1de6'\n",
    "app.config['SQLALCHEMY_DATABASE_URI'] = 'sqlite:///users.db'\n",
    "db = SQLAlchemy(app)\n",
    "login_manager = LoginManager(app)\n",
    "login_manager.login_view = 'login'\n",
    "\n",
    "# User Model\n",
    "class User(UserMixin, db.Model):\n",
    "    id = db.Column(db.Integer, primary_key=True)\n",
    "    username = db.Column(db.String(80), unique=True, nullable=False)\n",
    "    password = db.Column(db.String(120), nullable=False)\n",
    "\n",
    "@login_manager.user_loader\n",
    "def load_user(user_id):\n",
    "    return User.query.get(int(user_id))\n",
    "\n",
    "# Routes\n",
    "@app.route('/')\n",
    "def home():\n",
    "    return render_template('index.html')\n",
    "\n",
    "@app.route('/login', methods=['GET', 'POST'])\n",
    "def login():\n",
    "    if request.method == 'POST':\n",
    "        username = request.form['username']\n",
    "        password = request.form['password']\n",
    "        user = User.query.filter_by(username=username).first()\n",
    "        if user and user.password == password:\n",
    "            login_user(user)\n",
    "            return redirect(url_for('dashboard'))\n",
    "        else:\n",
    "            flash('Invalid username or password')\n",
    "    return render_template('login.html')\n",
    "\n",
    "@app.route('/dashboard')\n",
    "@login_required\n",
    "def dashboard():\n",
    "    return render_template('dashboard.html', user=current_user)\n",
    "\n",
    "@app.route('/logout')\n",
    "@login_required\n",
    "def logout():\n",
    "    logout_user()\n",
    "    return redirect(url_for('home'))\n",
    "\n",
    "if __name__ == '__main__':\n",
    "    with app.app_context():\n",
    "        db.create_all()\n",
    "    app.run(debug=True)"
   ]
  },
  {
   "cell_type": "code",
   "execution_count": null,
   "id": "7ec868a3",
   "metadata": {},
   "outputs": [],
   "source": []
  }
 ],
 "metadata": {
  "kernelspec": {
   "display_name": "Python 3 (ipykernel)",
   "language": "python",
   "name": "python3"
  },
  "language_info": {
   "codemirror_mode": {
    "name": "ipython",
    "version": 3
   },
   "file_extension": ".py",
   "mimetype": "text/x-python",
   "name": "python",
   "nbconvert_exporter": "python",
   "pygments_lexer": "ipython3",
   "version": "3.11.5"
  }
 },
 "nbformat": 4,
 "nbformat_minor": 5
}
